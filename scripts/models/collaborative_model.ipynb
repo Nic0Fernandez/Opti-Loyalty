{
 "cells": [
  {
   "cell_type": "code",
   "execution_count": 9,
   "metadata": {},
   "outputs": [],
   "source": [
    "import sqlite3\n",
    "import pandas as pd\n",
    "from surprise import Dataset, Reader, SVD\n",
    "from surprise.model_selection import train_test_split\n",
    "from surprise import accuracy"
   ]
  },
  {
   "cell_type": "code",
   "execution_count": 3,
   "metadata": {},
   "outputs": [],
   "source": [
    "db_path = \"../../db.sqlite3\"  # Remplacez par le chemin vers votre base SQLite\n",
    "conn = sqlite3.connect(db_path)"
   ]
  },
  {
   "cell_type": "code",
   "execution_count": 4,
   "metadata": {},
   "outputs": [],
   "source": [
    "query = \"\"\"\n",
    "SELECT \n",
    "    orders.client_id,\n",
    "    menu.name AS pizza_name\n",
    "FROM \n",
    "    orders\n",
    "JOIN \n",
    "    menu\n",
    "ON \n",
    "    orders.pizza_id = menu.pizza_id\n",
    "\"\"\"\n",
    "data = pd.read_sql_query(query, conn)"
   ]
  },
  {
   "cell_type": "code",
   "execution_count": 7,
   "metadata": {},
   "outputs": [],
   "source": [
    "# Calculer le nombre de commandes par client et pizza (fréquence comme score)\n",
    "pizza_counts = data.groupby(['client_id', 'pizza_name']).size().reset_index(name='rating')\n",
    "\n",
    "# Préparer les données pour Surprise\n",
    "reader = Reader(rating_scale=(1, pizza_counts['rating'].max()))  # Échelle ajustée à la fréquence\n",
    "data_surprise = Dataset.load_from_df(pizza_counts[['client_id', 'pizza_name', 'rating']], reader)"
   ]
  },
  {
   "cell_type": "code",
   "execution_count": 12,
   "metadata": {},
   "outputs": [
    {
     "data": {
      "text/plain": [
       "<surprise.prediction_algorithms.matrix_factorization.SVD at 0x228e711d450>"
      ]
     },
     "execution_count": 12,
     "metadata": {},
     "output_type": "execute_result"
    }
   ],
   "source": [
    "# Diviser les données en ensembles d'entraînement et de test\n",
    "trainset, testset = train_test_split(data_surprise, test_size=0.2)\n",
    "\n",
    "# Entraîner un modèle SVD\n",
    "algo = SVD()\n",
    "algo.fit(trainset)"
   ]
  },
  {
   "cell_type": "code",
   "execution_count": 31,
   "metadata": {},
   "outputs": [
    {
     "name": "stdout",
     "output_type": "stream",
     "text": [
      "RMSE: 0.8921\n",
      "MAE:  0.7071\n",
      "RMSE: 0.8920619420528594\n",
      "MAE: 0.7071454750774768\n"
     ]
    }
   ],
   "source": [
    "# Faire des prédictions sur l'ensemble de test\n",
    "predictions = algo.test(testset)\n",
    "\n",
    "# Calculer les métriques\n",
    "rmse = accuracy.rmse(predictions)\n",
    "mae = accuracy.mae(predictions)\n",
    "print(f\"RMSE: {rmse}\")\n",
    "print(f\"MAE: {mae}\")\n"
   ]
  },
  {
   "cell_type": "code",
   "execution_count": 14,
   "metadata": {},
   "outputs": [],
   "source": [
    "from collections import defaultdict\n",
    "\n",
    "def precision_recall_at_k(predictions, k=10, threshold=3.5):\n",
    "    \"\"\"\n",
    "    Calculer la précision et le rappel à k pour une liste de prédictions.\n",
    "\n",
    "    Args:\n",
    "    predictions (list of Prediction): Liste des prédictions générées par Surprise.\n",
    "    k (int): Nombre maximum de recommandations à considérer.\n",
    "    threshold (float): Seuil au-dessus duquel une prédiction est considérée comme pertinente.\n",
    "\n",
    "    Returns:\n",
    "    dict: Dictionnaire contenant la précision et le rappel pour chaque utilisateur.\n",
    "    \"\"\"\n",
    "    # Regrouper les prédictions par utilisateur\n",
    "    user_est_true = defaultdict(list)\n",
    "    for pred in predictions:\n",
    "        user_est_true[pred.uid].append((pred.est, pred.r_ui))  # Note prédite (est), note réelle (r_ui)\n",
    "\n",
    "    precisions = {}\n",
    "    recalls = {}\n",
    "\n",
    "    for uid, user_ratings in user_est_true.items():\n",
    "        # Trier les prédictions de l'utilisateur par note prédite (descendante)\n",
    "        user_ratings.sort(key=lambda x: x[0], reverse=True)\n",
    "\n",
    "        # Prendre les k premières prédictions\n",
    "        user_ratings = user_ratings[:k]\n",
    "\n",
    "        # Nombre de prédictions pertinentes\n",
    "        n_relevant = sum((true_r >= threshold) for (_, true_r) in user_ratings)\n",
    "\n",
    "        # Nombre total d'items pertinents pour cet utilisateur\n",
    "        n_total_relevant = sum((true_r >= threshold) for (_, true_r) in user_est_true[uid])\n",
    "\n",
    "        # Calculer la précision et le rappel\n",
    "        precisions[uid] = n_relevant / k if k > 0 else 0\n",
    "        recalls[uid] = n_relevant / n_total_relevant if n_total_relevant > 0 else 0\n",
    "\n",
    "    return precisions, recalls"
   ]
  },
  {
   "cell_type": "code",
   "execution_count": 15,
   "metadata": {},
   "outputs": [
    {
     "name": "stdout",
     "output_type": "stream",
     "text": [
      "Précision moyenne à 3 : 0.51\n",
      "Rappel moyen à 3 : 0.99\n"
     ]
    }
   ],
   "source": [
    "# Calculer les prédictions sur l'ensemble de test\n",
    "predictions = algo.test(testset)\n",
    "\n",
    "# Calculer précision et rappel à k\n",
    "k = 3  # Nombre de recommandations à considérer\n",
    "threshold = 0.8  # Seuil pour considérer une recommandation pertinente\n",
    "precisions, recalls = precision_recall_at_k(predictions, k=k, threshold=threshold)\n",
    "\n",
    "# Calculer les moyennes globales\n",
    "avg_precision = sum(precisions.values()) / len(precisions)\n",
    "avg_recall = sum(recalls.values()) / len(recalls)\n",
    "\n",
    "print(f\"Précision moyenne à {k} : {avg_precision:.2f}\")\n",
    "print(f\"Rappel moyen à {k} : {avg_recall:.2f}\")"
   ]
  },
  {
   "cell_type": "code",
   "execution_count": 30,
   "metadata": {},
   "outputs": [
    {
     "name": "stdout",
     "output_type": "stream",
     "text": [
      "Historique des commandes pour le client 13 :\n",
      " - The Italian Capocollo Pizza (commandée 1 fois)\n",
      " - The Sicilian Pizza (commandée 1 fois)\n",
      " - The Spinach and Feta Pizza (commandée 5 fois)\n",
      "\n",
      "Top 3 recommandations pour le client 13 :\n",
      "Pizza : The Spinach and Feta Pizza, Score estimé : 2.6240186055693036\n",
      "Pizza : The Hawaiian Pizza, Score estimé : 2.2508803674566242\n",
      "Pizza : The Calabrese Pizza, Score estimé : 2.1466241138202924\n"
     ]
    }
   ],
   "source": [
    "# Tester le modèle sur un client existant\n",
    "def test_model_on_existing_client(client_id):\n",
    "    # Vérifier si le client existe\n",
    "    if client_id not in data['client_id'].unique():\n",
    "        print(f\"Erreur : client_id {client_id} n'existe pas dans les données.\")\n",
    "        return\n",
    "\n",
    "    # Récupérer l'historique des commandes du client\n",
    "    client_history = data[data['client_id'] == client_id].groupby('pizza_name').size()\n",
    "    print(f\"Historique des commandes pour le client {client_id} :\")\n",
    "    for pizza, count in client_history.items():\n",
    "        print(f\" - {pizza} (commandée {count} fois)\")\n",
    "\n",
    "    # Considérer toutes les pizzas, y compris celles déjà commandées\n",
    "    pizza_names = data['pizza_name'].unique()\n",
    "\n",
    "    # Générer des prédictions pour toutes les pizzas\n",
    "    recommendations = [algo.predict(client_id, pizza_name) for pizza_name in pizza_names]\n",
    "\n",
    "    # Trier les recommandations par score estimé\n",
    "    top_recommendations = sorted(recommendations, key=lambda x: x.est, reverse=True)[:3]\n",
    "\n",
    "    # Afficher les recommandations\n",
    "    print(f\"\\nTop 3 recommandations pour le client {client_id} :\")\n",
    "    for rec in top_recommendations:\n",
    "        print(f\"Pizza : {rec.iid}, Score estimé : {rec.est}\")\n",
    "\n",
    "# Exemple : Tester sur un client existant\n",
    "test_client_id = 13 # Remplacez par un client_id existant dans votre base\n",
    "test_model_on_existing_client(test_client_id)"
   ]
  }
 ],
 "metadata": {
  "kernelspec": {
   "display_name": "Python 3",
   "language": "python",
   "name": "python3"
  },
  "language_info": {
   "codemirror_mode": {
    "name": "ipython",
    "version": 3
   },
   "file_extension": ".py",
   "mimetype": "text/x-python",
   "name": "python",
   "nbconvert_exporter": "python",
   "pygments_lexer": "ipython3",
   "version": "3.11.1"
  }
 },
 "nbformat": 4,
 "nbformat_minor": 2
}
