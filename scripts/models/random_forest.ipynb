{
 "cells": [
  {
   "cell_type": "code",
   "execution_count": 1,
   "metadata": {},
   "outputs": [],
   "source": [
    "import sqlite3\n",
    "import pandas as pd\n",
    "from sklearn.model_selection import train_test_split\n",
    "from sklearn.ensemble import RandomForestClassifier\n",
    "from sklearn.metrics import classification_report, accuracy_score, confusion_matrix"
   ]
  },
  {
   "cell_type": "markdown",
   "metadata": {},
   "source": [
    "Récupération des données"
   ]
  },
  {
   "cell_type": "code",
   "execution_count": 2,
   "metadata": {},
   "outputs": [],
   "source": [
    "# Connexion à la base de données SQLite\n",
    "db_path = '../../db.sqlite3'\n",
    "conn = sqlite3.connect(db_path)\n",
    "\n",
    "# Chargement des données\n",
    "menu = pd.read_sql_query(\"SELECT * FROM menu\", conn)\n",
    "orders = pd.read_sql_query(\"SELECT * FROM orders\", conn)\n",
    "\n",
    "# Fermer la connexion\n",
    "conn.close()"
   ]
  },
  {
   "cell_type": "markdown",
   "metadata": {},
   "source": [
    "Préparation des données"
   ]
  },
  {
   "cell_type": "code",
   "execution_count": 3,
   "metadata": {},
   "outputs": [],
   "source": [
    "order_data = orders.merge(menu, on='pizza_id')\n",
    "\n",
    "# Remplacer pizza_id par name\n",
    "order_data_grouped = order_data.groupby(['client_id', 'name'])['name'].count().unstack(fill_value=0)\n",
    "\n",
    "# Création des labels pour recommandation\n",
    "# La pizza la plus commandée pour chaque client devient la cible\n",
    "order_data_grouped['most_ordered'] = order_data_grouped.idxmax(axis=1)\n",
    "target = order_data_grouped['most_ordered']\n",
    "features = order_data_grouped.drop(columns=['most_ordered'])\n",
    "\n",
    "# Encodage des pizzas\n",
    "features_encoded = features  # Pas besoin d'encodage pour les noms dans ce cas\n",
    "target_encoded = target.astype('category').cat.codes\n",
    "pizza_name_mapping = dict(enumerate(target.astype('category').cat.categories))  # Pour décoder plus tard"
   ]
  },
  {
   "cell_type": "markdown",
   "metadata": {},
   "source": [
    "Entraînement"
   ]
  },
  {
   "cell_type": "code",
   "execution_count": 4,
   "metadata": {},
   "outputs": [
    {
     "name": "stdout",
     "output_type": "stream",
     "text": [
      "Accuracy: 0.9014285714285715\n",
      "\n",
      "Classification Report:\n",
      "                                             precision    recall  f1-score   support\n",
      "\n",
      "                The Barbecue Chicken Pizza       0.88      0.99      0.93       107\n",
      "                        The Big Meat Pizza       0.96      0.97      0.97        78\n",
      "                      The Brie Carre Pizza       1.00      0.48      0.65        21\n",
      "                       The Calabrese Pizza       0.94      0.92      0.93        37\n",
      "              The California Chicken Pizza       0.91      1.00      0.95        89\n",
      "                 The Chicken Alfredo Pizza       0.91      0.81      0.86        37\n",
      "                   The Chicken Pesto Pizza       1.00      0.80      0.89        25\n",
      "                  The Classic Deluxe Pizza       0.80      0.93      0.86        74\n",
      "                     The Five Cheese Pizza       0.91      0.98      0.95        44\n",
      "                     The Four Cheese Pizza       0.79      0.94      0.86        32\n",
      "                           The Greek Pizza       0.90      1.00      0.95        35\n",
      "                    The Green Garden Pizza       1.00      0.69      0.81        32\n",
      "                        The Hawaiian Pizza       0.92      0.93      0.92        82\n",
      "               The Italian Capocollo Pizza       0.89      0.98      0.93        43\n",
      "                 The Italian Supreme Pizza       0.89      0.96      0.92        57\n",
      "              The Italian Vegetables Pizza       0.95      0.72      0.82        29\n",
      "                   The Mediterranean Pizza       1.00      0.54      0.70        24\n",
      "                        The Mexicana Pizza       0.82      0.95      0.88        39\n",
      "                      The Napolitana Pizza       0.87      1.00      0.93        33\n",
      "                   The Pepper Salami Pizza       0.94      0.78      0.85        37\n",
      "                       The Pepperoni Pizza       0.89      0.86      0.88        59\n",
      "The Pepperoni, Mushroom, and Peppers Pizza       0.97      0.80      0.88        40\n",
      "          The Prosciutto and Arugula Pizza       0.87      0.93      0.90        29\n",
      "                        The Sicilian Pizza       0.87      0.94      0.91        51\n",
      "                     The Soppressata Pizza       0.94      0.80      0.86        20\n",
      "               The Southwest Chicken Pizza       0.87      0.94      0.90        48\n",
      "                   The Spicy Italian Pizza       0.90      0.92      0.91        48\n",
      "                   The Spinach Pesto Pizza       1.00      0.86      0.92        21\n",
      "                 The Spinach Supreme Pizza       1.00      0.71      0.83        17\n",
      "                The Spinach and Feta Pizza       1.00      0.81      0.89        31\n",
      "                    The Thai Chicken Pizza       0.92      0.95      0.93        57\n",
      "         The Vegetables + Vegetables Pizza       0.91      0.83      0.87        24\n",
      "\n",
      "                                  accuracy                           0.90      1400\n",
      "                                 macro avg       0.92      0.87      0.88      1400\n",
      "                              weighted avg       0.91      0.90      0.90      1400\n",
      "\n",
      "\n",
      "Confusion Matrix:\n",
      " [[106   0   0 ...   0   0   0]\n",
      " [  2  76   0 ...   0   0   0]\n",
      " [  2   0  10 ...   0   0   0]\n",
      " ...\n",
      " [  0   0   0 ...  25   0   0]\n",
      " [  0   0   0 ...   0  54   0]\n",
      " [  1   0   0 ...   0   0  20]]\n"
     ]
    }
   ],
   "source": [
    "# Séparation des données pour entraînement et test\n",
    "X_train, X_test, y_train, y_test = train_test_split(features_encoded, target_encoded, test_size=0.2, random_state=42)\n",
    "\n",
    "# Entraînement du modèle Random Forest\n",
    "model = RandomForestClassifier(n_estimators=100, random_state=42)\n",
    "model.fit(X_train, y_train)\n",
    "\n",
    "# Prédictions\n",
    "y_pred = model.predict(X_test)\n",
    "\n",
    "# Analyse des performances\n",
    "accuracy = accuracy_score(y_test, y_pred)\n",
    "print(\"Accuracy:\", accuracy)\n",
    "print(\"\\nClassification Report:\\n\", classification_report(y_test, y_pred, target_names=pizza_name_mapping.values()))\n",
    "print(\"\\nConfusion Matrix:\\n\", confusion_matrix(y_test, y_pred))"
   ]
  },
  {
   "cell_type": "markdown",
   "metadata": {},
   "source": [
    "Exemple de recommandation"
   ]
  },
  {
   "cell_type": "code",
   "execution_count": 5,
   "metadata": {},
   "outputs": [
    {
     "name": "stdout",
     "output_type": "stream",
     "text": [
      "Pizza recommandée : The Pepperoni Pizza\n"
     ]
    }
   ],
   "source": [
    "# Recommandation pour un nouveau client\n",
    "def recommend_pizza(client_order_vector):\n",
    "    client_vector_encoded = pd.DataFrame([client_order_vector], columns=features_encoded.columns).fillna(0)\n",
    "    predicted_pizza_code = model.predict(client_vector_encoded)[0]\n",
    "    predicted_pizza_name = pizza_name_mapping[predicted_pizza_code]\n",
    "    return predicted_pizza_name\n",
    "\n",
    "# Exemple d'utilisation pour un client avec un historique fictif\n",
    "new_client_orders = [0] * len(features.columns)  # Exemple : toutes les commandes à 0\n",
    "print(\"Pizza recommandée :\", recommend_pizza(new_client_orders))\n"
   ]
  }
 ],
 "metadata": {
  "kernelspec": {
   "display_name": "Python 3",
   "language": "python",
   "name": "python3"
  },
  "language_info": {
   "codemirror_mode": {
    "name": "ipython",
    "version": 3
   },
   "file_extension": ".py",
   "mimetype": "text/x-python",
   "name": "python",
   "nbconvert_exporter": "python",
   "pygments_lexer": "ipython3",
   "version": "3.10.11"
  }
 },
 "nbformat": 4,
 "nbformat_minor": 2
}
