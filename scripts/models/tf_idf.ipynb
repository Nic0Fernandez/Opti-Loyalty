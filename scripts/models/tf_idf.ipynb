{
 "cells": [
  {
   "cell_type": "code",
   "execution_count": 28,
   "metadata": {},
   "outputs": [],
   "source": [
    "import sqlite3\n",
    "import pandas as pd\n",
    "from sklearn.feature_extraction.text import TfidfVectorizer"
   ]
  },
  {
   "cell_type": "markdown",
   "metadata": {},
   "source": [
    "Récupération des données"
   ]
  },
  {
   "cell_type": "code",
   "execution_count": 29,
   "metadata": {},
   "outputs": [],
   "source": [
    "conn = sqlite3.connect('../../db.sqlite3')\n",
    "\n",
    "query_pizzas = \"\"\"\n",
    "SELECT pizza_id, name, size, ingredients\n",
    "FROM menu;\n",
    "\"\"\"\n",
    "pizzas_df = pd.read_sql_query(query_pizzas, conn)\n",
    "\n",
    "query_orders = \"\"\"\n",
    "SELECT client_id, pizza_id, order_date\n",
    "FROM orders;\n",
    "\"\"\"\n",
    "orders_df = pd.read_sql_query(query_orders, conn)\n"
   ]
  },
  {
   "cell_type": "markdown",
   "metadata": {},
   "source": [
    "Application de TF-IDF"
   ]
  },
  {
   "cell_type": "code",
   "execution_count": 30,
   "metadata": {},
   "outputs": [],
   "source": [
    "tfidf_vectorizer = TfidfVectorizer()\n",
    "tfidf_matrix = tfidf_vectorizer.fit_transform(pizzas_df['ingredients'])\n",
    "\n",
    "tfidf_feature_names = tfidf_vectorizer.get_feature_names_out()\n",
    "tfidf_df = pd.DataFrame(tfidf_matrix.toarray(), columns=tfidf_feature_names, index=pizzas_df['pizza_id'])"
   ]
  },
  {
   "cell_type": "markdown",
   "metadata": {},
   "source": [
    "Exemple recommandation"
   ]
  },
  {
   "cell_type": "code",
   "execution_count": 31,
   "metadata": {},
   "outputs": [
    {
     "name": "stdout",
     "output_type": "stream",
     "text": [
      "Les pizzas similaires à 'The Green Garden Pizza' :\n",
      "- The Green Garden Pizza (score de similarité : 1.00)\n",
      "- The Spinach and Feta Pizza (score de similarité : 0.68)\n",
      "- The Mediterranean Pizza (score de similarité : 0.44)\n",
      "- The Pepperoni, Mushroom, and Peppers Pizza (score de similarité : 0.42)\n",
      "- The Vegetables + Vegetables Pizza (score de similarité : 0.42)\n"
     ]
    }
   ],
   "source": [
    "from sklearn.metrics.pairwise import cosine_similarity\n",
    "\n",
    "# Calcul de la matrice de similarité\n",
    "similarity_matrix = cosine_similarity(tfidf_matrix)\n",
    "\n",
    "pizza_id_to_recommend = \"green_garden_l\"  # ID de la pizza pour laquelle on fait des recommandations\n",
    "pizza_index = pizzas_df[pizzas_df['pizza_id'] == pizza_id_to_recommend].index[0]\n",
    "\n",
    "# Calcul des similarités et tri par ordre décroissant\n",
    "similar_pizzas = list(enumerate(similarity_matrix[pizza_index]))\n",
    "similar_pizzas = sorted(similar_pizzas, key=lambda x: x[1], reverse=True)\n",
    "\n",
    "recommended_pizzas = []\n",
    "seen_names = set()\n",
    "\n",
    "print(f\"Les pizzas similaires à '{pizzas_df.loc[pizza_index, 'name']}' :\")\n",
    "for idx, score in similar_pizzas:\n",
    "    pizza_name = pizzas_df.loc[idx, 'name']\n",
    "    if pizza_name not in seen_names:  \n",
    "        recommended_pizzas.append((pizza_name, score))\n",
    "        seen_names.add(pizza_name)\n",
    "    if len(recommended_pizzas) == 5:  \n",
    "        break\n",
    "\n",
    "for pizza_name, score in recommended_pizzas:\n",
    "    print(f\"- {pizza_name} (score de similarité : {score:.2f})\")\n"
   ]
  },
  {
   "cell_type": "code",
   "execution_count": 32,
   "metadata": {},
   "outputs": [],
   "source": [
    "conn.close()"
   ]
  }
 ],
 "metadata": {
  "kernelspec": {
   "display_name": "Python 3",
   "language": "python",
   "name": "python3"
  },
  "language_info": {
   "codemirror_mode": {
    "name": "ipython",
    "version": 3
   },
   "file_extension": ".py",
   "mimetype": "text/x-python",
   "name": "python",
   "nbconvert_exporter": "python",
   "pygments_lexer": "ipython3",
   "version": "3.10.11"
  }
 },
 "nbformat": 4,
 "nbformat_minor": 2
}
