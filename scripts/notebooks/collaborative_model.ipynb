{
 "cells": [
  {
   "cell_type": "code",
   "execution_count": 1,
   "metadata": {},
   "outputs": [],
   "source": [
    "import sqlite3\n",
    "import pandas as pd\n",
    "from surprise import Dataset, Reader, SVD\n",
    "from sklearn.model_selection import train_test_split\n",
    "from surprise import accuracy\n",
    "import numpy as np\n"
   ]
  },
  {
   "cell_type": "markdown",
   "metadata": {},
   "source": [
    "Récupération des données"
   ]
  },
  {
   "cell_type": "code",
   "execution_count": null,
   "metadata": {},
   "outputs": [],
   "source": [
    "db_path = \"../../db.sqlite3\"  \n",
    "conn = sqlite3.connect(db_path)"
   ]
  },
  {
   "cell_type": "code",
   "execution_count": 4,
   "metadata": {},
   "outputs": [],
   "source": [
    "query = \"\"\"\n",
    "SELECT \n",
    "    main_order.client_id,\n",
    "    main_pizza.name AS pizza_name\n",
    "FROM \n",
    "    main_order\n",
    "JOIN \n",
    "    main_pizza\n",
    "ON \n",
    "    main_order.pizza_id = main_pizza.pizza_id\n",
    "\"\"\"\n",
    "data = pd.read_sql_query(query, conn)"
   ]
  },
  {
   "cell_type": "code",
   "execution_count": 5,
   "metadata": {},
   "outputs": [],
   "source": [
    "client_ids = data['client_id'].unique()\n",
    "\n",
    "# Split 80/20\n",
    "train_clients, test_clients = train_test_split(client_ids, test_size=0.2, random_state=42)\n",
    "\n",
    "train_data = data[data['client_id'].isin(train_clients)]\n",
    "test_data = data[data['client_id'].isin(test_clients)]"
   ]
  },
  {
   "cell_type": "code",
   "execution_count": 6,
   "metadata": {},
   "outputs": [
    {
     "data": {
      "text/plain": [
       "<surprise.prediction_algorithms.matrix_factorization.SVD at 0x236d7e91850>"
      ]
     },
     "execution_count": 6,
     "metadata": {},
     "output_type": "execute_result"
    }
   ],
   "source": [
    "# Calculer le nombre de commandes par client et pizza (fréquence comme score)\n",
    "train_pizza_counts = train_data.groupby(['client_id', 'pizza_name']).size().reset_index(name='rating')\n",
    "test_pizza_counts = test_data.groupby(['client_id', 'pizza_name']).size().reset_index(name='rating')\n",
    "\n",
    "reader = Reader(rating_scale=(train_pizza_counts['rating'].min(), train_pizza_counts['rating'].max()))\n",
    "trainset = Dataset.load_from_df(train_pizza_counts[['client_id', 'pizza_name', 'rating']], reader).build_full_trainset()\n",
    "testset = Dataset.load_from_df(test_pizza_counts[['client_id', 'pizza_name', 'rating']], reader).build_full_trainset()\n",
    "\n",
    "# Entraîner un modèle SVD sur l'ensemble d'entraînement\n",
    "algo = SVD(n_factors=50, reg_all=0.1)\n",
    "algo.fit(trainset)"
   ]
  },
  {
   "cell_type": "markdown",
   "metadata": {},
   "source": [
    "Prédictions ensemble de test"
   ]
  },
  {
   "cell_type": "code",
   "execution_count": 7,
   "metadata": {},
   "outputs": [
    {
     "name": "stdout",
     "output_type": "stream",
     "text": [
      "RMSE: 0.8790\n",
      "MAE:  0.7022\n",
      "RMSE: 0.8790274778104493\n",
      "MAE: 0.7021644057586461\n"
     ]
    }
   ],
   "source": [
    "predictions = algo.test(testset.build_testset())\n",
    "\n",
    "# Calculer les métriques\n",
    "rmse = accuracy.rmse(predictions)\n",
    "mae = accuracy.mae(predictions)\n",
    "print(f\"RMSE: {rmse}\")\n",
    "print(f\"MAE: {mae}\")\n"
   ]
  },
  {
   "cell_type": "code",
   "execution_count": 8,
   "metadata": {},
   "outputs": [],
   "source": [
    "from collections import defaultdict\n",
    "\n",
    "def precision_recall_at_k(predictions, k=10, threshold=3.5):\n",
    "    \"\"\"\n",
    "    Calculer la précision et le rappel à k pour une liste de prédictions.\n",
    "\n",
    "    Args:\n",
    "    predictions (list of Prediction): Liste des prédictions générées par Surprise.\n",
    "    k (int): Nombre maximum de recommandations à considérer.\n",
    "    threshold (float): Seuil au-dessus duquel une prédiction est considérée comme pertinente.\n",
    "\n",
    "    Returns:\n",
    "    dict: Dictionnaire contenant la précision et le rappel pour chaque utilisateur.\n",
    "    \"\"\"\n",
    "    # Regrouper les prédictions par utilisateur\n",
    "    user_est_true = defaultdict(list)\n",
    "    for pred in predictions:\n",
    "        user_est_true[pred.uid].append((pred.est, pred.r_ui))  # Note prédite (est), note réelle (r_ui)\n",
    "\n",
    "    precisions = {}\n",
    "    recalls = {}\n",
    "\n",
    "    for uid, user_ratings in user_est_true.items():\n",
    "        # Trier les prédictions de l'utilisateur par note prédite (descendante)\n",
    "        user_ratings.sort(key=lambda x: x[0], reverse=True)\n",
    "\n",
    "        # k premières prédictions\n",
    "        user_ratings = user_ratings[:k]\n",
    "\n",
    "        # Nombre de prédictions pertinentes\n",
    "        n_relevant = sum((true_r >= threshold) for (_, true_r) in user_ratings)\n",
    "\n",
    "        # Nombre total d'items pertinents pour cet utilisateur\n",
    "        n_total_relevant = sum((true_r >= threshold) for (_, true_r) in user_est_true[uid])\n",
    "\n",
    "        precisions[uid] = n_relevant / k if k > 0 else 0\n",
    "        recalls[uid] = n_relevant / n_total_relevant if n_total_relevant > 0 else 0\n",
    "\n",
    "    return precisions, recalls"
   ]
  },
  {
   "cell_type": "code",
   "execution_count": 9,
   "metadata": {},
   "outputs": [
    {
     "name": "stdout",
     "output_type": "stream",
     "text": [
      "Précision moyenne à 3 : 0.8660\n",
      "Rappel moyen à 3 : 0.7572\n"
     ]
    }
   ],
   "source": [
    "# Précision et rappel\n",
    "k = 3  # Nb recommandations\n",
    "threshold = 0.8\n",
    "precisions, recalls = precision_recall_at_k(predictions, k=k, threshold=threshold)\n",
    "\n",
    "# Calculer les moyennes globales\n",
    "avg_precision = sum(precisions.values()) / len(precisions)\n",
    "avg_recall = sum(recalls.values()) / len(recalls)\n",
    "\n",
    "print(f\"Précision moyenne à {k} : {avg_precision:.4f}\")\n",
    "print(f\"Rappel moyen à {k} : {avg_recall:.4f}\")"
   ]
  },
  {
   "cell_type": "markdown",
   "metadata": {},
   "source": [
    "Exemple recommandation client"
   ]
  },
  {
   "cell_type": "code",
   "execution_count": 10,
   "metadata": {},
   "outputs": [
    {
     "name": "stdout",
     "output_type": "stream",
     "text": [
      "Historique des commandes pour le client 10 :\n",
      " - The Four Cheese Pizza (commandée 1 fois)\n",
      " - The Italian Supreme Pizza (commandée 2 fois)\n",
      " - The Napolitana Pizza (commandée 1 fois)\n",
      " - The Sicilian Pizza (commandée 1 fois)\n",
      " - The Spinach Pesto Pizza (commandée 1 fois)\n",
      " - The Spinach Supreme Pizza (commandée 1 fois)\n",
      " - The Vegetables + Vegetables Pizza (commandée 1 fois)\n",
      "\n",
      "Top 3 recommandations pour le client 10 :\n",
      "Pizza : The Barbecue Chicken Pizza, Score estimé : 1.505051873194929\n",
      "Pizza : The Pepperoni, Mushroom, and Peppers Pizza, Score estimé : 1.4753027805461951\n",
      "Pizza : The Italian Supreme Pizza, Score estimé : 1.4645881910233374\n"
     ]
    }
   ],
   "source": [
    "def test_model_on_existing_client(client_id):\n",
    "    if client_id not in data['client_id'].unique():\n",
    "        print(f\"Erreur : client_id {client_id} n'existe pas dans les données.\")\n",
    "        return\n",
    "\n",
    "    # Récupérer l'historique des commandes du client\n",
    "    client_history = data[data['client_id'] == client_id].groupby('pizza_name').size()\n",
    "    print(f\"Historique des commandes pour le client {client_id} :\")\n",
    "    for pizza, count in client_history.items():\n",
    "        print(f\" - {pizza} (commandée {count} fois)\")\n",
    "\n",
    "    # Considérer toutes les pizzas\n",
    "    pizza_names = data['pizza_name'].unique()\n",
    "\n",
    "    # Générer des prédictions pour toutes les pizzas\n",
    "    recommendations = [algo.predict(client_id, pizza_name) for pizza_name in pizza_names]\n",
    "\n",
    "    # Trier les recommandations selon score\n",
    "    top_recommendations = sorted(recommendations, key=lambda x: x.est, reverse=True)[:3]\n",
    "\n",
    "    print(f\"\\nTop 3 recommandations pour le client {client_id} :\")\n",
    "    for rec in top_recommendations:\n",
    "        print(f\"Pizza : {rec.iid}, Score estimé : {rec.est}\")\n",
    "\n",
    "# Test\n",
    "test_client_id = 10 \n",
    "test_model_on_existing_client(test_client_id)"
   ]
  },
  {
   "cell_type": "markdown",
   "metadata": {},
   "source": [
    "Sauvegarde du modèle"
   ]
  },
  {
   "cell_type": "code",
   "execution_count": 11,
   "metadata": {},
   "outputs": [
    {
     "name": "stdout",
     "output_type": "stream",
     "text": [
      "Modèle sauvegardé dans collaborative_model.pkl\n"
     ]
    }
   ],
   "source": [
    "import pickle\n",
    "\n",
    "collaborative_model_path = 'collaborative_model.pkl'\n",
    "\n",
    "with open(collaborative_model_path, 'wb') as f:\n",
    "    pickle.dump(algo, f)\n",
    "\n",
    "print(f\"Modèle sauvegardé dans {collaborative_model_path}\")"
   ]
  }
 ],
 "metadata": {
  "kernelspec": {
   "display_name": "Python 3",
   "language": "python",
   "name": "python3"
  },
  "language_info": {
   "codemirror_mode": {
    "name": "ipython",
    "version": 3
   },
   "file_extension": ".py",
   "mimetype": "text/x-python",
   "name": "python",
   "nbconvert_exporter": "python",
   "pygments_lexer": "ipython3",
   "version": "3.11.1"
  }
 },
 "nbformat": 4,
 "nbformat_minor": 2
}
