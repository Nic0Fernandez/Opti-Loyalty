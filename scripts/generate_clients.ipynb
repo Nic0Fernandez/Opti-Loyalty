{
 "cells": [
  {
   "cell_type": "code",
   "execution_count": 1,
   "metadata": {},
   "outputs": [],
   "source": [
    "import pandas as pd\n",
    "import numpy as np\n",
    "import random\n",
    "from datetime import datetime, timedelta\n",
    "\n",
    "# Charger le fichier de Kaggle qui contient les ventes réelles\n",
    "df_sales = pd.read_excel('data/Pizza_Sales.xlsx')\n",
    "\n",
    "# Calculer la distribution des pizzas\n",
    "pizza_distribution = df_sales['pizza_name'].value_counts(normalize=True)"
   ]
  },
  {
   "cell_type": "code",
   "execution_count": 2,
   "metadata": {},
   "outputs": [],
   "source": [
    "# Créer un fichier d'association pizza-taille-ID\n",
    "pizza_size_mapping = df_sales[['pizza_name', 'pizza_size', 'pizza_id', 'unit_price']].drop_duplicates()\n",
    "\n",
    "# Sauvegarder dans un fichier CSV pour réutilisation\n",
    "pizza_size_mapping.to_csv('data/pizza_size_mapping.csv', index=False, encoding='utf-8')\n"
   ]
  },
  {
   "cell_type": "code",
   "execution_count": 3,
   "metadata": {},
   "outputs": [],
   "source": [
    "df_ingredients = pd.read_csv('data/pizza_ingredients.csv')\n",
    "\n",
    "df_mapping = pd.read_csv('data/pizza_size_mapping.csv')\n",
    "\n",
    "size_distribution = df_sales.groupby(['pizza_name', 'pizza_size']).size() / len(df_sales)\n"
   ]
  },
  {
   "cell_type": "code",
   "execution_count": 4,
   "metadata": {},
   "outputs": [],
   "source": [
    "# Paramètres de simulation\n",
    "num_clients = 7000 \n",
    "mean_pizzas_per_client = 7\n",
    "std_pizzas_per_client = 3  \n",
    "\n",
    "#  Utiliser une distrib normale pour générer le nombre de pizzas par clients à l'année\n",
    "np.random.seed(42)  \n",
    "pizzas_per_client = np.clip(\n",
    "    np.random.normal(loc=mean_pizzas_per_client, scale=std_pizzas_per_client, size=num_clients),\n",
    "    2, 20\n",
    ").astype(int)"
   ]
  },
  {
   "cell_type": "code",
   "execution_count": 5,
   "metadata": {},
   "outputs": [],
   "source": [
    "# Générer les commandes pour chaque client\n",
    "data = []\n",
    "for client_id, num_pizzas in enumerate(pizzas_per_client, start=1):\n",
    "    favorite_pizzas = pizza_distribution.sample(n=min(2, len(pizza_distribution)), weights=pizza_distribution.values).index.tolist()\n",
    "    \n",
    "    for _ in range(num_pizzas):\n",
    "        order_date = datetime.now() - timedelta(days=random.randint(1, 365))\n",
    "        \n",
    "        if num_pizzas <= 7:  # Clients rares\n",
    "            if random.random() < 0.80:  # 80% chance de pizza favorite\n",
    "                pizza_name = random.choice(favorite_pizzas)\n",
    "            else:  # Choisir une pizza aux ingrédients similaires\n",
    "                favorite_ingredients = df_ingredients[df_ingredients['pizza_name'].isin(favorite_pizzas)]['pizza_ingredients']\n",
    "\n",
    "                # Créer un ensemble d'ingrédients communs entre toutes les pizzas favorites\n",
    "                favorite_ingredients_list = favorite_ingredients.str.split(', ').tolist()\n",
    "                common_ingredients = set(favorite_ingredients_list[0])\n",
    "                for ingredients in favorite_ingredients_list[1:]:\n",
    "                    common_ingredients.intersection_update(ingredients)\n",
    "\n",
    "                # Joindre les ingrédients communs avec '|' pour la recherche\n",
    "                common_ingredients_str = '|'.join(common_ingredients)\n",
    "\n",
    "                # Filtrer les pizzas qui contiennent tous les ingrédients communs\n",
    "                similar_pizzas = df_ingredients[\n",
    "                    df_ingredients['pizza_ingredients'].str.contains(common_ingredients_str)\n",
    "                ]\n",
    "                \n",
    "                if not similar_pizzas.empty:\n",
    "                    pizza_name=similar_pizzas.sample(1)['pizza_name'].iloc[0]\n",
    "                else : \n",
    "                    pizza_name=df_ingredients.sample(1)['pizza_name'].iloc[0]\n",
    "\n",
    "        else:  # Clients fréquents\n",
    "            if random.random() < 0.25:  # 25% chance de pizza favorite\n",
    "                pizza_name = random.choice(favorite_pizzas)\n",
    "            else:\n",
    "                pizza_name = pizza_distribution.sample(n=1, weights=pizza_distribution.values).index[0]\n",
    "        \n",
    "        # Générer la taille de la pizza en respectant la distribution\n",
    "        possible_sizes = size_distribution.loc[pizza_name]\n",
    "        pizza_size = possible_sizes.sample(weights=possible_sizes.values).index[0]\n",
    "        \n",
    "        # Récupérer le pizza_id et le prix\n",
    "        pizza_info = df_mapping[(df_mapping['pizza_name'] == pizza_name) & (df_mapping['pizza_size'] == pizza_size)]\n",
    "        pizza_id = pizza_info['pizza_id'].iloc[0]\n",
    "        \n",
    "        # Récupérer les ingrédients\n",
    "        ingredients = df_ingredients[df_ingredients['pizza_name'] == pizza_name]['pizza_ingredients'].iloc[0]\n",
    "        \n",
    "        # Ajouter l'entrée\n",
    "        data.append({\n",
    "            'client_id': client_id,\n",
    "            'pizza_id': pizza_id,\n",
    "            'pizza_name': pizza_name,\n",
    "            'pizza_size': pizza_size,\n",
    "            'order_date': order_date,\n",
    "            'ingredients': ingredients\n",
    "        })\n",
    "\n",
    "# Convertir en DataFrame\n",
    "df_consumers = pd.DataFrame(data)\n",
    "\n",
    "# Sauvegarder\n",
    "df_consumers.to_csv('data/consumer_data.csv', index=False, encoding='utf-8')"
   ]
  },
  {
   "cell_type": "code",
   "execution_count": 6,
   "metadata": {},
   "outputs": [
    {
     "name": "stdout",
     "output_type": "stream",
     "text": [
      "    Number of Pizzas  Number of Clients\n",
      "0                  2                658\n",
      "1                  3                458\n",
      "2                  4                659\n",
      "3                  5                824\n",
      "4                  6                920\n",
      "5                  7                917\n",
      "6                  8                819\n",
      "7                  9                643\n",
      "8                 10                470\n",
      "9                 11                291\n",
      "10                12                177\n",
      "11                13                 92\n",
      "12                14                 44\n",
      "13                15                 16\n",
      "14                16                  9\n",
      "15                17                  1\n",
      "16                18                  2\n"
     ]
    }
   ],
   "source": [
    "# Calculer le nombre total de pizzas par client\n",
    "pizza_count_per_client = df_consumers.groupby('client_id').size()\n",
    "\n",
    "# Compter combien de clients ont consommé chaque quantité\n",
    "distribution = pizza_count_per_client.value_counts().sort_index()\n",
    "\n",
    "# Afficher les résultats\n",
    "distribution_df = distribution.reset_index()\n",
    "distribution_df.columns = ['Number of Pizzas', 'Number of Clients']\n",
    "\n",
    "print(distribution_df)"
   ]
  },
  {
   "cell_type": "code",
   "execution_count": 7,
   "metadata": {},
   "outputs": [
    {
     "name": "stdout",
     "output_type": "stream",
     "text": [
      "                                    Pizza Name  Number of Clients\n",
      "0                   The Barbecue Chicken Pizza               1449\n",
      "7                     The Classic Deluxe Pizza               1403\n",
      "20                         The Pepperoni Pizza               1352\n",
      "30                      The Thai Chicken Pizza               1334\n",
      "4                 The California Chicken Pizza               1334\n",
      "12                          The Hawaiian Pizza               1321\n",
      "26                     The Spicy Italian Pizza               1179\n",
      "23                          The Sicilian Pizza               1128\n",
      "25                 The Southwest Chicken Pizza               1121\n",
      "9                        The Four Cheese Pizza               1107\n",
      "14                   The Italian Supreme Pizza               1105\n",
      "1                           The Big Meat Pizza               1080\n",
      "17                          The Mexicana Pizza               1031\n",
      "18                        The Napolitana Pizza               1010\n",
      "31           The Vegetables + Vegetables Pizza                998\n",
      "29                  The Spinach and Feta Pizza                959\n",
      "10                             The Greek Pizza                958\n",
      "13                 The Italian Capocollo Pizza                924\n",
      "19                     The Pepper Salami Pizza                917\n",
      "8                        The Five Cheese Pizza                899\n",
      "21  The Pepperoni, Mushroom, and Peppers Pizza                862\n",
      "22            The Prosciutto and Arugula Pizza                858\n",
      "15                The Italian Vegetables Pizza                704\n",
      "28                   The Spinach Supreme Pizza                704\n",
      "6                      The Chicken Pesto Pizza                693\n",
      "24                       The Soppressata Pizza                690\n",
      "3                          The Calabrese Pizza                684\n",
      "27                     The Spinach Pesto Pizza                667\n",
      "16                     The Mediterranean Pizza                658\n",
      "5                    The Chicken Alfredo Pizza                657\n",
      "11                      The Green Garden Pizza                651\n",
      "2                         The Brie Carre Pizza                384\n"
     ]
    }
   ],
   "source": [
    "# Calculer combien de clients uniques ont consommé chaque pizza\n",
    "pizza_client_count = df_consumers.groupby('pizza_name')['client_id'].nunique()\n",
    "\n",
    "# Convertir en DataFrame pour une meilleure lisibilité\n",
    "pizza_client_distribution = pizza_client_count.reset_index()\n",
    "pizza_client_distribution.columns = ['Pizza Name', 'Number of Clients']\n",
    "\n",
    "# Trier par le nombre de clients\n",
    "pizza_client_distribution = pizza_client_distribution.sort_values(by='Number of Clients', ascending=False)\n",
    "\n",
    "print(pizza_client_distribution)"
   ]
  }
 ],
 "metadata": {
  "kernelspec": {
   "display_name": "Python 3",
   "language": "python",
   "name": "python3"
  },
  "language_info": {
   "codemirror_mode": {
    "name": "ipython",
    "version": 3
   },
   "file_extension": ".py",
   "mimetype": "text/x-python",
   "name": "python",
   "nbconvert_exporter": "python",
   "pygments_lexer": "ipython3",
   "version": "3.11.1"
  }
 },
 "nbformat": 4,
 "nbformat_minor": 2
}
