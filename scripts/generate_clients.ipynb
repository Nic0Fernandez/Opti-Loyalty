{
 "cells": [
  {
   "cell_type": "code",
   "execution_count": 1,
   "metadata": {},
   "outputs": [],
   "source": [
    "import pandas as pd\n",
    "import numpy as np\n",
    "import random\n",
    "from datetime import datetime, timedelta\n",
    "\n",
    "# Charger le fichier de Kaggle qui contient les ventes réelles\n",
    "df_sales = pd.read_excel('data/Pizza_Sales.xlsx')\n",
    "\n",
    "# Calculer la distribution des pizzas\n",
    "pizza_distribution = df_sales['pizza_name'].value_counts(normalize=True)"
   ]
  },
  {
   "cell_type": "code",
   "execution_count": 2,
   "metadata": {},
   "outputs": [],
   "source": [
    "# Créer un fichier d'association pizza-taille-ID\n",
    "pizza_size_mapping = df_sales[['pizza_name', 'pizza_size', 'pizza_id', 'unit_price']].drop_duplicates()\n",
    "\n",
    "# Sauvegarder dans un fichier CSV pour réutilisation\n",
    "pizza_size_mapping.to_csv('data/pizza_size_mapping.csv', index=False, encoding='utf-8')\n"
   ]
  },
  {
   "cell_type": "code",
   "execution_count": 3,
   "metadata": {},
   "outputs": [],
   "source": [
    "df_ingredients = pd.read_csv('data/pizza_ingredients.csv')\n",
    "\n",
    "df_mapping = pd.read_csv('data/pizza_size_mapping.csv')\n",
    "\n",
    "size_distribution = df_sales.groupby(['pizza_name', 'pizza_size']).size() / len(df_sales)\n"
   ]
  },
  {
   "cell_type": "code",
   "execution_count": 4,
   "metadata": {},
   "outputs": [],
   "source": [
    "# Paramètres de simulation\n",
    "num_clients = 7000  \n",
    "mean_pizzas_per_client = 7\n",
    "std_pizzas_per_client = 3  \n",
    "\n",
    "#  Utiliser une distrib normale pour générer le nombre de pizzas par clients à l'année\n",
    "np.random.seed(42)  \n",
    "pizzas_per_client = np.clip(\n",
    "    np.random.normal(loc=mean_pizzas_per_client, scale=std_pizzas_per_client, size=num_clients),\n",
    "    2, 20\n",
    ").astype(int)"
   ]
  },
  {
   "cell_type": "code",
   "execution_count": 5,
   "metadata": {},
   "outputs": [
    {
     "ename": "KeyboardInterrupt",
     "evalue": "",
     "output_type": "error",
     "traceback": [
      "\u001b[1;31m---------------------------------------------------------------------------\u001b[0m",
      "\u001b[1;31mKeyboardInterrupt\u001b[0m                         Traceback (most recent call last)",
      "\u001b[1;32md:\\TelecomNancy\\3A\\Hackathon\\Opti-Loyalty\\scripts\\generate_clients.ipynb Cell 5\u001b[0m line \u001b[0;36m2\n\u001b[0;32m     <a href='vscode-notebook-cell:/d%3A/TelecomNancy/3A/Hackathon/Opti-Loyalty/scripts/generate_clients.ipynb#W4sZmlsZQ%3D%3D?line=23'>24</a>\u001b[0m         pizza_name \u001b[39m=\u001b[39m random\u001b[39m.\u001b[39mchoice(favorite_pizzas)\n\u001b[0;32m     <a href='vscode-notebook-cell:/d%3A/TelecomNancy/3A/Hackathon/Opti-Loyalty/scripts/generate_clients.ipynb#W4sZmlsZQ%3D%3D?line=24'>25</a>\u001b[0m     \u001b[39melse\u001b[39;00m:\n\u001b[1;32m---> <a href='vscode-notebook-cell:/d%3A/TelecomNancy/3A/Hackathon/Opti-Loyalty/scripts/generate_clients.ipynb#W4sZmlsZQ%3D%3D?line=25'>26</a>\u001b[0m         pizza_name \u001b[39m=\u001b[39m pizza_distribution\u001b[39m.\u001b[39;49msample(n\u001b[39m=\u001b[39;49m\u001b[39m1\u001b[39;49m, weights\u001b[39m=\u001b[39;49mpizza_distribution\u001b[39m.\u001b[39;49mvalues)\u001b[39m.\u001b[39mindex[\u001b[39m0\u001b[39m]\n\u001b[0;32m     <a href='vscode-notebook-cell:/d%3A/TelecomNancy/3A/Hackathon/Opti-Loyalty/scripts/generate_clients.ipynb#W4sZmlsZQ%3D%3D?line=27'>28</a>\u001b[0m \u001b[39m# Générer la taille de la pizza en respectant la distribution\u001b[39;00m\n\u001b[0;32m     <a href='vscode-notebook-cell:/d%3A/TelecomNancy/3A/Hackathon/Opti-Loyalty/scripts/generate_clients.ipynb#W4sZmlsZQ%3D%3D?line=28'>29</a>\u001b[0m possible_sizes \u001b[39m=\u001b[39m size_distribution\u001b[39m.\u001b[39mloc[pizza_name]\n",
      "File \u001b[1;32m~\\AppData\\Local\\Packages\\PythonSoftwareFoundation.Python.3.10_qbz5n2kfra8p0\\LocalCache\\local-packages\\Python310\\site-packages\\pandas\\core\\generic.py:5773\u001b[0m, in \u001b[0;36mNDFrame.sample\u001b[1;34m(self, n, frac, replace, weights, random_state, axis, ignore_index)\u001b[0m\n\u001b[0;32m   5770\u001b[0m \u001b[39mif\u001b[39;00m weights \u001b[39mis\u001b[39;00m \u001b[39mnot\u001b[39;00m \u001b[39mNone\u001b[39;00m:\n\u001b[0;32m   5771\u001b[0m     weights \u001b[39m=\u001b[39m sample\u001b[39m.\u001b[39mpreprocess_weights(\u001b[39mself\u001b[39m, weights, axis)\n\u001b[1;32m-> 5773\u001b[0m sampled_indices \u001b[39m=\u001b[39m sample\u001b[39m.\u001b[39;49msample(obj_len, size, replace, weights, rs)\n\u001b[0;32m   5774\u001b[0m result \u001b[39m=\u001b[39m \u001b[39mself\u001b[39m\u001b[39m.\u001b[39mtake(sampled_indices, axis\u001b[39m=\u001b[39maxis)\n\u001b[0;32m   5776\u001b[0m \u001b[39mif\u001b[39;00m ignore_index:\n",
      "File \u001b[1;32m~\\AppData\\Local\\Packages\\PythonSoftwareFoundation.Python.3.10_qbz5n2kfra8p0\\LocalCache\\local-packages\\Python310\\site-packages\\pandas\\core\\sample.py:150\u001b[0m, in \u001b[0;36msample\u001b[1;34m(obj_len, size, replace, weights, random_state)\u001b[0m\n\u001b[0;32m    147\u001b[0m     \u001b[39melse\u001b[39;00m:\n\u001b[0;32m    148\u001b[0m         \u001b[39mraise\u001b[39;00m \u001b[39mValueError\u001b[39;00m(\u001b[39m\"\u001b[39m\u001b[39mInvalid weights: weights sum to zero\u001b[39m\u001b[39m\"\u001b[39m)\n\u001b[1;32m--> 150\u001b[0m \u001b[39mreturn\u001b[39;00m random_state\u001b[39m.\u001b[39;49mchoice(obj_len, size\u001b[39m=\u001b[39;49msize, replace\u001b[39m=\u001b[39;49mreplace, p\u001b[39m=\u001b[39;49mweights)\u001b[39m.\u001b[39mastype(\n\u001b[0;32m    151\u001b[0m     np\u001b[39m.\u001b[39mintp, copy\u001b[39m=\u001b[39m\u001b[39mFalse\u001b[39;00m\n\u001b[0;32m    152\u001b[0m )\n",
      "\u001b[1;31mKeyboardInterrupt\u001b[0m: "
     ]
    }
   ],
   "source": [
    "# Générer les commandes pour chaque client\n",
    "data = []\n",
    "for client_id, num_pizzas in enumerate(pizzas_per_client, start=1):\n",
    "    favorite_pizzas = pizza_distribution.sample(n=min(2, len(pizza_distribution)), weights=pizza_distribution.values).index.tolist()\n",
    "    \n",
    "    for _ in range(num_pizzas):\n",
    "        order_date = datetime.now() - timedelta(days=random.randint(1, 365))\n",
    "        \n",
    "        if num_pizzas <= 7:  # Clients rares\n",
    "            if random.random() < 0.8:  # 80% chance de pizza favorite\n",
    "                pizza_name = random.choice(favorite_pizzas)\n",
    "            else:  # Choisir une pizza aux ingrédients similaires\n",
    "                similar_pizzas = df_ingredients[\n",
    "                    df_ingredients['pizza_ingredients'].str.contains(\n",
    "                        '|'.join(df_ingredients[df_ingredients['pizza_name'].isin(favorite_pizzas)]['pizza_ingredients'].iloc[0].split(', '))\n",
    "                    )\n",
    "                ]\n",
    "                if not similar_pizzas.empty:\n",
    "                    pizza_name = similar_pizzas.sample(1)['pizza_name'].iloc[0]\n",
    "                else:\n",
    "                    pizza_name = df_ingredients.sample(1)['pizza_name'].iloc[0]\n",
    "        else:  # Clients fréquents\n",
    "            if random.random() < 0.25:  # 25% chance de pizza favorite\n",
    "                pizza_name = random.choice(favorite_pizzas)\n",
    "            else:\n",
    "                pizza_name = pizza_distribution.sample(n=1, weights=pizza_distribution.values).index[0]\n",
    "        \n",
    "        # Générer la taille de la pizza en respectant la distribution\n",
    "        possible_sizes = size_distribution.loc[pizza_name]\n",
    "        pizza_size = possible_sizes.sample(weights=possible_sizes.values).index[0]\n",
    "        \n",
    "        # Récupérer le pizza_id et le prix\n",
    "        pizza_info = df_mapping[(df_mapping['pizza_name'] == pizza_name) & (df_mapping['pizza_size'] == pizza_size)]\n",
    "        pizza_id = pizza_info['pizza_id'].iloc[0]\n",
    "        unit_price = pizza_info['unit_price'].iloc[0]\n",
    "        \n",
    "        # Récupérer les ingrédients\n",
    "        ingredients = df_ingredients[df_ingredients['pizza_name'] == pizza_name]['pizza_ingredients'].iloc[0]\n",
    "        \n",
    "        # Ajouter l'entrée\n",
    "        data.append({\n",
    "            'client_id': client_id,\n",
    "            'pizza_id': pizza_id,\n",
    "            'pizza_name': pizza_name,\n",
    "            'pizza_size': pizza_size,\n",
    "            'unit_price': unit_price,\n",
    "            'order_date': order_date,\n",
    "            'ingredients': ingredients\n",
    "        })\n",
    "\n",
    "# Convertir en DataFrame\n",
    "df_consumers = pd.DataFrame(data)\n",
    "\n",
    "# Sauvegarder\n",
    "df_consumers.to_csv('data/realistic_synthetic_consumer_data_with_sizes_and_ingredients.csv', index=False, encoding='utf-8')"
   ]
  },
  {
   "cell_type": "code",
   "execution_count": null,
   "metadata": {},
   "outputs": [
    {
     "name": "stdout",
     "output_type": "stream",
     "text": [
      "    Number of Pizzas  Number of Clients\n",
      "0                  2                658\n",
      "1                  3                458\n",
      "2                  4                659\n",
      "3                  5                824\n",
      "4                  6                920\n",
      "5                  7                917\n",
      "6                  8                819\n",
      "7                  9                643\n",
      "8                 10                470\n",
      "9                 11                291\n",
      "10                12                177\n",
      "11                13                 92\n",
      "12                14                 44\n",
      "13                15                 16\n",
      "14                16                  9\n",
      "15                17                  1\n",
      "16                18                  2\n"
     ]
    }
   ],
   "source": [
    "# Calculer le nombre total de pizzas par client\n",
    "pizza_count_per_client = df_consumers.groupby('client_id').size()\n",
    "\n",
    "# Compter combien de clients ont consommé chaque quantité\n",
    "distribution = pizza_count_per_client.value_counts().sort_index()\n",
    "\n",
    "# Afficher les résultats\n",
    "distribution_df = distribution.reset_index()\n",
    "distribution_df.columns = ['Number of Pizzas', 'Number of Clients']\n",
    "\n",
    "print(distribution_df)"
   ]
  },
  {
   "cell_type": "code",
   "execution_count": null,
   "metadata": {},
   "outputs": [
    {
     "name": "stdout",
     "output_type": "stream",
     "text": [
      "                                    Pizza Name  Number of Clients\n",
      "7                     The Classic Deluxe Pizza               1818\n",
      "0                   The Barbecue Chicken Pizza               1816\n",
      "20                         The Pepperoni Pizza               1758\n",
      "12                          The Hawaiian Pizza               1736\n",
      "30                      The Thai Chicken Pizza               1721\n",
      "4                 The California Chicken Pizza               1685\n",
      "23                          The Sicilian Pizza               1508\n",
      "26                     The Spicy Italian Pizza               1475\n",
      "1                           The Big Meat Pizza               1453\n",
      "9                        The Four Cheese Pizza               1444\n",
      "14                   The Italian Supreme Pizza               1425\n",
      "25                 The Southwest Chicken Pizza               1393\n",
      "22            The Prosciutto and Arugula Pizza               1209\n",
      "17                          The Mexicana Pizza               1170\n",
      "19                     The Pepper Salami Pizza               1161\n",
      "31           The Vegetables + Vegetables Pizza               1159\n",
      "13                 The Italian Capocollo Pizza               1151\n",
      "18                        The Napolitana Pizza               1143\n",
      "29                  The Spinach and Feta Pizza               1139\n",
      "10                             The Greek Pizza               1105\n",
      "8                        The Five Cheese Pizza               1103\n",
      "21  The Pepperoni, Mushroom, and Peppers Pizza               1055\n",
      "11                      The Green Garden Pizza                842\n",
      "6                      The Chicken Pesto Pizza                802\n",
      "15                The Italian Vegetables Pizza                791\n",
      "5                    The Chicken Alfredo Pizza                791\n",
      "27                     The Spinach Pesto Pizza                768\n",
      "28                   The Spinach Supreme Pizza                764\n",
      "3                          The Calabrese Pizza                763\n",
      "24                       The Soppressata Pizza                761\n",
      "16                     The Mediterranean Pizza                748\n",
      "2                         The Brie Carre Pizza                412\n"
     ]
    }
   ],
   "source": [
    "# Calculer combien de clients uniques ont consommé chaque pizza\n",
    "pizza_client_count = df_consumers.groupby('pizza_name')['client_id'].nunique()\n",
    "\n",
    "# Convertir en DataFrame pour une meilleure lisibilité\n",
    "pizza_client_distribution = pizza_client_count.reset_index()\n",
    "pizza_client_distribution.columns = ['Pizza Name', 'Number of Clients']\n",
    "\n",
    "# Trier par le nombre de clients\n",
    "pizza_client_distribution = pizza_client_distribution.sort_values(by='Number of Clients', ascending=False)\n",
    "\n",
    "print(pizza_client_distribution)"
   ]
  }
 ],
 "metadata": {
  "kernelspec": {
   "display_name": "Python 3",
   "language": "python",
   "name": "python3"
  },
  "language_info": {
   "codemirror_mode": {
    "name": "ipython",
    "version": 3
   },
   "file_extension": ".py",
   "mimetype": "text/x-python",
   "name": "python",
   "nbconvert_exporter": "python",
   "pygments_lexer": "ipython3",
   "version": "3.10.11"
  }
 },
 "nbformat": 4,
 "nbformat_minor": 2
}
